{
 "cells": [
  {
   "cell_type": "code",
   "execution_count": 2,
   "metadata": {
    "collapsed": false
   },
   "outputs": [
    {
     "ename": "SyntaxError",
     "evalue": "invalid syntax (<ipython-input-2-61eba683bf99>, line 1)",
     "traceback": [
      "\u001b[0;36m  File \u001b[0;32m\"<ipython-input-2-61eba683bf99>\"\u001b[0;36m, line \u001b[0;32m1\u001b[0m\n\u001b[0;31m    teh idea is to create simple proxies of problems of different types\u001b[0m\n\u001b[0m           ^\u001b[0m\n\u001b[0;31mSyntaxError\u001b[0m\u001b[0;31m:\u001b[0m invalid syntax\n"
     ],
     "output_type": "error"
    }
   ],
   "source": [
    "teh idea is to create simple proxies of problems of different types\n",
    "instead of attacking complex in algorithms and amont and noisyness of data at the same time"
   ]
  },
  {
   "cell_type": "code",
   "execution_count": null,
   "metadata": {
    "collapsed": true
   },
   "outputs": [],
   "source": [
    "import numpy as np\n",
    "import matplotlib as mpl\n",
    "from matplotlib import pyplot as plt\n",
    "from IPython.display import display, Image\n",
    "import PIL\n",
    "from io import BytesIO\n",
    "import skimage\n",
    "from skimage.draw import circle\n",
    "import random\n",
    "import sklearn\n",
    "import sklearn.linear_model\n",
    "from matplotlib import pyplot as plt\n",
    "%matplotlib inline"
   ]
  },
  {
   "cell_type": "code",
   "execution_count": 436,
   "metadata": {
    "collapsed": true
   },
   "outputs": [],
   "source": [
    "dim_image=64\n",
    "def display_as_images(ar):\n",
    "    a=ar[0]\n",
    "    bar=np.ones([dim_image,2])\n",
    "#    im_ar=np.hstack([np.hstack([ar[i].reshape([dim_image,dim_image]),bar]) for i in range(ar.shape[0])])\n",
    "    im_ar=np.hstack([np.hstack([ar[i],bar]) for i in range(ar.shape[0])])\n",
    "    im = PIL.Image.fromarray(im_ar*255)\n",
    "    if im.mode != 'RGB':\n",
    "        im = im.convert('RGB')\n",
    "    return im"
   ]
  },
  {
   "cell_type": "code",
   "execution_count": 437,
   "metadata": {
    "collapsed": true
   },
   "outputs": [],
   "source": [
    "def draw_box(a, y, x, r_max):\n",
    "    r=random.randint(r_max//2,r_max)\n",
    "    rr, cc = skimage.draw.polygon_perimeter([y+r,y-r,y-r,y+r],[x-r,x-r,x+r,x+r])\n",
    "    a[rr, cc] = 1\n",
    "\n",
    "def draw_circle(a,y,x,r_max):\n",
    "    #r=random.randint(r_max//2,r_max)\n",
    "    r=r_max\n",
    "    rr, cc = skimage.draw.circle_perimeter(y,x,r)\n",
    "    a[rr, cc] = 1\n"
   ]
  },
  {
   "cell_type": "code",
   "execution_count": 438,
   "metadata": {
    "collapsed": true
   },
   "outputs": [],
   "source": [
    "def gen_item(cnts):\n",
    "    a=np.zeros([dim_image,dim_image],dtype=np.float32)\n",
    "    rad = 8\n",
    "    size = rad * 2 + 2\n",
    "    steps = dim_image // size\n",
    "    positions = [( rad+ i // steps *size,rad+ i % steps *size ) for i in range(steps*steps)]\n",
    "    #print(positions)\n",
    "    random.shuffle(positions)\n",
    "    cnt=cnts[0]\n",
    "    for pos in positions[:cnt]:\n",
    "        draw_circle(a,pos[0], pos[1], rad)\n",
    "    positions=positions[cnt:]\n",
    "    cnt=cnts[1]\n",
    "    for pos in positions[:cnt]:\n",
    "        draw_box(a,pos[0], pos[1], rad-2)\n",
    "    positions=positions[cnt:]\n",
    "    return a\n",
    "\n",
    "#gen_item(1)"
   ]
  },
  {
   "cell_type": "code",
   "execution_count": 443,
   "metadata": {
    "collapsed": false
   },
   "outputs": [
    {
     "data": {
      "image/png": "[encoded data removed]",
      "text/plain": [
       "<PIL.Image.Image image mode=RGB size=1300x64 at 0x7F8834C17908>"
      ]
     },
     "execution_count": 443,
     "metadata": {},
     "output_type": "execute_result"
    }
   ],
   "source": [
    "cnt_samples = 200\n",
    "max_objects = 4 \n",
    "X_train=[]\n",
    "Y_train=[]\n",
    "for i in range(cnt_samples):\n",
    "    cnt_circles=random.randint(0,3)\n",
    "    cnt_boxes=random.randint(0,3)\n",
    "    img = gen_item([cnt_circles, cnt_boxes])\n",
    "    img = np.hstack([img,np.zeros((dim_image,dim_image),dtype=np.float32)])\n",
    "    X_train.append(img)\n",
    "    Y_train.append(np.array([cnt_circles,cnt_boxes],dtype=np.float32))\n",
    "X_train=np.array(X_train)\n",
    "Y_train=np.array(Y_train)\n",
    "display_as_images(X_train[:10])"
   ]
  },
  {
   "cell_type": "code",
   "execution_count": 444,
   "metadata": {
    "collapsed": true
   },
   "outputs": [
    {
     "data": {
      "image/png": "[encoded data removed]",
      "text/plain": [
       "<PIL.Image.Image image mode=RGB size=1300x64 at 0x7F885C01FEB8>"
      ]
     },
     "execution_count": 444,
     "metadata": {},
     "output_type": "execute_result"
    }
   ],
   "source": [
    "X_test=[]\n",
    "Y_test=[]\n",
    "for i in range(100):\n",
    "    cnt_circles=random.randint(0,4)\n",
    "    cnt_boxes=random.randint(0,4)\n",
    "    img = gen_item([cnt_circles, cnt_boxes])\n",
    "    img = np.hstack([np.zeros((dim_image,dim_image),dtype=np.float32),img])\n",
    "    X_test.append(img)\n",
    "    Y_test.append(np.array([cnt_circles,cnt_boxes],dtype=np.float32))\n",
    "X_test=np.array(X_test)\n",
    "Y_test=np.array(Y_test)\n",
    "display_as_images(X_test[:10])"
   ]
  },
  {
   "cell_type": "code",
   "execution_count": 445,
   "metadata": {
    "collapsed": true
   },
   "outputs": [],
   "source": [
    "import chainer\n",
    "import chainer.links as L\n",
    "import chainer.functions as F\n",
    "from chainer import training\n",
    "from chainer.training import extensions"
   ]
  },
  {
   "cell_type": "code",
   "execution_count": 446,
   "metadata": {
    "collapsed": true
   },
   "outputs": [],
   "source": [
    "X_train=np.expand_dims(X_train, axis=1)\n",
    "X_test=np.expand_dims(X_test, axis=1)\n"
   ]
  },
  {
   "cell_type": "code",
   "execution_count": null,
   "metadata": {
    "collapsed": true
   },
   "outputs": [],
   "source": []
  },
  {
   "cell_type": "code",
   "execution_count": 447,
   "metadata": {},
   "outputs": [
    {
     "data": {
      "text/plain": [
       "<matplotlib.image.AxesImage at 0x7f885c11e358>"
      ]
     },
     "execution_count": 447,
     "metadata": {},
     "output_type": "execute_result"
    },
    {
     "data": {
      "image/png": "[encoded data removed]",
      "text/plain": [
       "<matplotlib.figure.Figure at 0x7f8835204a20>"
      ]
     },
     "metadata": {},
     "output_type": "display_data"
    }
   ],
   "source": [
    "w1 = np.zeros((4,4),dtype=np.float32)\n",
    "w1[0,0]=1\n",
    "w1[0,1]=1\n",
    "w1[0,2]=1\n",
    "w1[1,0]=1\n",
    "w1[2,0]=1\n",
    "\n",
    "w2 = np.zeros((4,4),dtype=np.float32)\n",
    "w2[2,0]=1\n",
    "w2[1,1]=1\n",
    "w2[0,2]=1\n",
    "\n",
    "w=np.stack([w1,w2])\n",
    "w=w[:,np.newaxis,:]\n",
    "w.shape\n",
    "plt.imshow(np.hstack([w1,w2]))\n",
    "\n"
   ]
  },
  {
   "cell_type": "code",
   "execution_count": 984,
   "metadata": {
    "collapsed": true
   },
   "outputs": [],
   "source": [
    "class CNN(chainer.Chain):\n",
    "\n",
    "    def __init__(self, train=True):\n",
    "        super(CNN, self).__init__(\n",
    "            conv1=L.Convolution2D(1, 16, 4, pad=3), #Convolution2D(in_channels, out_channels, ksize, stride=1, pad=0, wscale=1, bias=0, nobias=False, use_cudnn=True, initialW=None, initial_bias=None, deterministic=False)\n",
    "            #conv1=L.Convolution2D(1, 2, 4, pad=3, initialW=w, initial_bias=np.array([-4,-2], dtype=np.float32)) ,\n",
    "            conv2=L.Convolution2D(None, 2, 3, pad=2),\n",
    "            #conv3=L.Convolution2D(None, 2, 3, pad=2),\n",
    "            #l1=L.Linear(None, 2, initialW=np.array([[0,0.26],[1,0]],dtype=np.float32)),  \n",
    "            l1=L.Linear(None, 2),  \n",
    "        )\n",
    "        self.train = train\n",
    "\n",
    "    def get_features(self,x):\n",
    "        h=x\n",
    "        #h = F.relu(self.conv1(h))\n",
    "        h = F.leaky_relu(self.conv1(h))\n",
    "        h = F.leaky_relu(self.conv2(h))\n",
    "        #h = F.max_pooling_2d(h, 2)\n",
    "        #h = F.relu(self.conv3(h))\n",
    "        return h\n",
    "    \n",
    "    def __call__(self, x):\n",
    "        h = self.get_features(x)\n",
    "        h = F.sum(h,axis=(2,3))\n",
    "        h = self.l1(h)\n",
    "        return h\n",
    "        ##return F.sigmoid(self.l1(h))\n",
    "net = CNN()\n",
    "#net.cleargrads()"
   ]
  },
  {
   "cell_type": "code",
   "execution_count": 985,
   "metadata": {
    "collapsed": true
   },
   "outputs": [],
   "source": [
    "#print(net.conv1.W.grad)"
   ]
  },
  {
   "cell_type": "code",
   "execution_count": 986,
   "metadata": {
    "collapsed": true
   },
   "outputs": [],
   "source": [
    "#net.__call__(X_train[:10]).data[1]\n",
    "#net.conv1.W.data\n"
   ]
  },
  {
   "cell_type": "code",
   "execution_count": 1263,
   "metadata": {},
   "outputs": [
    {
     "data": {
      "image/png": "[encoded data removed]",
      "text/plain": [
       "<matplotlib.figure.Figure at 0x7f8832725ef0>"
      ]
     },
     "metadata": {},
     "output_type": "display_data"
    },
    {
     "data": {
      "image/png": "[encoded data removed]",
      "text/plain": [
       "<matplotlib.figure.Figure at 0x7f883290fac8>"
      ]
     },
     "metadata": {},
     "output_type": "display_data"
    },
    {
     "name": "stdout",
     "output_type": "stream",
     "text": [
      "(2, 69, 133)\n",
      "[-0.73295593 -3.76662827]\n"
     ]
    },
    {
     "data": {
      "image/png": "[encoded data removed]",
      "text/plain": [
       "<matplotlib.figure.Figure at 0x7f885bfe3710>"
      ]
     },
     "metadata": {},
     "output_type": "display_data"
    }
   ],
   "source": [
    "plt.imshow(X_train[1][0])\n",
    "plt.show()\n",
    "result = net.get_features(X_train[:4]).data\n",
    "plt.imshow(result[1][0],cmap=mpl.cm.Greys)\n",
    "plt.colorbar()\n",
    "plt.show()\n",
    "plt.imshow(result[1][1],cmap=mpl.cm.Greys)\n",
    "plt.colorbar()\n",
    "print (result[1].shape)\n",
    "print (result[1].sum(axis=(1,2)))"
   ]
  },
  {
   "cell_type": "code",
   "execution_count": 988,
   "metadata": {},
   "outputs": [
    {
     "name": "stdout",
     "output_type": "stream",
     "text": [
      "(2, 69, 133)\n"
     ]
    },
    {
     "data": {
      "text/plain": [
       "array([ 111.09544373,  190.59375   ], dtype=float32)"
      ]
     },
     "execution_count": 988,
     "metadata": {},
     "output_type": "execute_result"
    }
   ],
   "source": [
    "r = result[0]\n",
    "print(r.shape)\n",
    "F.sum(r,axis=(1,2)).data\n"
   ]
  },
  {
   "cell_type": "code",
   "execution_count": 989,
   "metadata": {},
   "outputs": [
    {
     "data": {
      "text/plain": [
       "(2,)"
      ]
     },
     "execution_count": 989,
     "metadata": {},
     "output_type": "execute_result"
    }
   ],
   "source": [
    "net.__call__(X_train[:10]).data[0].shape\n"
   ]
  },
  {
   "cell_type": "code",
   "execution_count": 1257,
   "metadata": {},
   "outputs": [
    {
     "data": {
      "text/plain": [
       "1"
      ]
     },
     "execution_count": 1257,
     "metadata": {},
     "output_type": "execute_result"
    }
   ],
   "source": [
    "1"
   ]
  },
  {
   "cell_type": "code",
   "execution_count": 990,
   "metadata": {
    "collapsed": true
   },
   "outputs": [],
   "source": [
    "class Model(chainer.Chain):\n",
    "    def __init__(self, predictor):\n",
    "        super().__init__(predictor=predictor)\n",
    "\n",
    "    def __call__(self, x, t):\n",
    "        y = self.predictor(x)\n",
    "        #print(\"y_shape:\", y.shape)\n",
    "        #print(\"t_shape:\", t.shape)\n",
    "        #loss = F.softmax_cross_entropy(y, t)\n",
    "        loss = F.mean_absolute_error(y, t)        \n",
    "        #print(loss.data)\n",
    "#        loss = F.si(y, t)\n",
    "#        accuracy = F.accuracy(y, t)\n",
    "        #accuracy = F.binary_accuracy(y, t)\n",
    "        chainer.report({'loss': loss}, self)\n",
    "        return loss"
   ]
  },
  {
   "cell_type": "code",
   "execution_count": null,
   "metadata": {
    "collapsed": true
   },
   "outputs": [],
   "source": [
    "model = Model(net)"
   ]
  },
  {
   "cell_type": "code",
   "execution_count": null,
   "metadata": {},
   "outputs": [
    {
     "data": {
      "text/plain": [
       "<variable at 0x7f885c075940>"
      ]
     },
     "execution_count": 992,
     "metadata": {},
     "output_type": "execute_result"
    }
   ],
   "source": [
    "model.__call__(X_train[:10], Y_train[:10])"
   ]
  },
  {
   "cell_type": "code",
   "execution_count": 993,
   "metadata": {
    "collapsed": true
   },
   "outputs": [],
   "source": [
    "#model = Classifier(CNN())\n",
    "#chainer.cuda.get_device(0).use()\n",
    "#model.to_gpu()"
   ]
  },
  {
   "cell_type": "code",
   "execution_count": 1332,
   "metadata": {
    "collapsed": true
   },
   "outputs": [],
   "source": [
    "#optimizer = chainer.optimizers.SGD(lr=0.000001)\n",
    "optimizer = chainer.optimizers.Adam(alpha=0.00001)\n",
    "optimizer.setup(model)\n",
    "#model.predictor.conv1.enable_update()\n"
   ]
  },
  {
   "cell_type": "code",
   "execution_count": null,
   "metadata": {
    "collapsed": true
   },
   "outputs": [],
   "source": []
  },
  {
   "cell_type": "code",
   "execution_count": 1333,
   "metadata": {
    "collapsed": true
   },
   "outputs": [],
   "source": [
    "#add channel dimension to X\n",
    "#print(X_train.shape)\n",
    "#tmp = np.expand_dims(X_train, axis=1)\n",
    "#tmp.shape\n",
    "#Y_train.shape"
   ]
  },
  {
   "cell_type": "code",
   "execution_count": 1346,
   "metadata": {},
   "outputs": [
    {
     "name": "stdout",
     "output_type": "stream",
     "text": [
      "(1, 64, 128)\n",
      "[ 2.  3.]\n"
     ]
    }
   ],
   "source": [
    "train = chainer.datasets.tuple_dataset.TupleDataset(X_train,Y_train)\n",
    "test  = chainer.datasets.tuple_dataset.TupleDataset(X_test,Y_test)\n",
    "print(train[2][0].shape)\n",
    "print(train[2][1])\n",
    "\n",
    "train_iter = chainer.iterators.SerialIterator(train, batch_size=128)\n",
    "test_iter  = chainer.iterators.SerialIterator(test, batch_size=32, repeat=False, shuffle=False)\n",
    "#train[3][1]"
   ]
  },
  {
   "cell_type": "code",
   "execution_count": 1347,
   "metadata": {
    "collapsed": true
   },
   "outputs": [],
   "source": [
    "#train_iter.values"
   ]
  },
  {
   "cell_type": "code",
   "execution_count": 1348,
   "metadata": {
    "collapsed": true
   },
   "outputs": [],
   "source": [
    "#updater = training.StandardUpdater(train_iter, optimizer, device=0)\n",
    "updater = training.StandardUpdater(train_iter, optimizer)\n",
    "trainer = training.Trainer(updater, (100, 'epoch'), out='result')    "
   ]
  },
  {
   "cell_type": "code",
   "execution_count": 1349,
   "metadata": {
    "collapsed": true
   },
   "outputs": [],
   "source": [
    "#trainer.extend(extensions.Evaluator(test_iter, model, device=0))\n",
    "trainer.extend(extensions.Evaluator(test_iter, model))\n",
    "trainer.extend(extensions.LogReport())\n",
    "trainer.extend(extensions.PrintReport(['epoch', 'main/loss', 'validation/main/loss']))\n",
    "#trainer.extend(extensions.ProgressBar())"
   ]
  },
  {
   "cell_type": "code",
   "execution_count": null,
   "metadata": {},
   "outputs": [
    {
     "name": "stdout",
     "output_type": "stream",
     "text": [
      "epoch       main/loss   validation/main/loss\n",
      "\u001b[J1           0.136938    0.166007              \n",
      "\u001b[J2           0.125087    0.169732              \n",
      "\u001b[J3           0.151567    0.166983              \n",
      "\u001b[J4           0.129889    0.166376              \n",
      "\u001b[J5           0.140602    0.166171              \n",
      "\u001b[J6           0.133283    0.167068              \n",
      "\u001b[J7           0.132273    0.167427              \n",
      "\u001b[J8           0.139804    0.167196              \n",
      "\u001b[J9           0.131908    0.167463              \n",
      "\u001b[J10          0.1262      0.168598              \n",
      "\u001b[J11          0.138876    0.16814               \n",
      "\u001b[J12          0.120726    0.168675              \n",
      "\u001b[J13          0.143403    0.168055              \n",
      "\u001b[J14          0.12225     0.171654              \n",
      "\u001b[J15          0.134473    0.167286              \n",
      "\u001b[J16          0.137714    0.167374              \n"
     ]
    }
   ],
   "source": [
    "%%time\n",
    "\n",
    "trainer.run()"
   ]
  },
  {
   "cell_type": "code",
   "execution_count": null,
   "metadata": {
    "collapsed": true
   },
   "outputs": [],
   "source": [
    "1"
   ]
  },
  {
   "cell_type": "code",
   "execution_count": null,
   "metadata": {
    "collapsed": true
   },
   "outputs": [],
   "source": []
  },
  {
   "cell_type": "code",
   "execution_count": 1146,
   "metadata": {},
   "outputs": [
    {
     "name": "stdout",
     "output_type": "stream",
     "text": [
      "W\n",
      "b\n",
      "W\n",
      "b\n",
      "W\n"
     ]
    }
   ],
   "source": [
    "#vis filters\n",
    "c=0\n",
    "for i in model.params():\n",
    "    print (i)\n",
    "    c+=1\n",
    "    if c>4:   break"
   ]
  },
  {
   "cell_type": "code",
   "execution_count": 1147,
   "metadata": {
    "collapsed": true
   },
   "outputs": [],
   "source": [
    "predictor= model.predictor"
   ]
  },
  {
   "cell_type": "code",
   "execution_count": 1102,
   "metadata": {},
   "outputs": [
    {
     "name": "stdout",
     "output_type": "stream",
     "text": [
      "<chainer.links.connection.convolution_2d.Convolution2D object at 0x7f88327ed8d0>\n",
      "<chainer.links.connection.convolution_2d.Convolution2D object at 0x7f88351c8a20>\n",
      "<chainer.links.connection.linear.Linear object at 0x7f8834c9bcf8>\n"
     ]
    }
   ],
   "source": [
    "for i in net.children():\n",
    "    print(i)"
   ]
  },
  {
   "cell_type": "code",
   "execution_count": null,
   "metadata": {
    "collapsed": true
   },
   "outputs": [],
   "source": [
    "c1 = net.conv1"
   ]
  },
  {
   "cell_type": "code",
   "execution_count": 1104,
   "metadata": {
    "collapsed": true
   },
   "outputs": [],
   "source": [
    "#c1.W.data\n",
    "import numpy.ma as ma\n",
    "def make_mosaic(imgs, nrows, ncols, border=1):\n",
    "    \"\"\"\n",
    "    Given a set of images with all the same shape, makes a\n",
    "    mosaic with nrows and ncols\n",
    "    \"\"\"\n",
    "    nimgs = imgs.shape[0]\n",
    "    imshape = imgs.shape[1:]\n",
    "    \n",
    "    mosaic = ma.masked_all((nrows * imshape[0] + (nrows - 1) * border,\n",
    "                            ncols * imshape[1] + (ncols - 1) * border),\n",
    "                            dtype=np.float32)\n",
    "    \n",
    "    paddedh = imshape[0] + border\n",
    "    paddedw = imshape[1] + border\n",
    "    for i in range(nimgs):\n",
    "        row = int(np.floor(i / ncols))\n",
    "        col = i % ncols\n",
    "        \n",
    "        mosaic[row * paddedh:row * paddedh + imshape[0],\n",
    "               col * paddedw:col * paddedw + imshape[1]] = imgs[i]\n",
    "    return mosaic"
   ]
  },
  {
   "cell_type": "code",
   "execution_count": 1105,
   "metadata": {
    "collapsed": true
   },
   "outputs": [],
   "source": [
    "# utility functions\n",
    "from mpl_toolkits.axes_grid1 import make_axes_locatable\n",
    "\n",
    "def nice_imshow(ax, data, vmin=None, vmax=None, cmap=None):\n",
    "    \"\"\"Wrapper around pl.imshow\"\"\"\n",
    "    if cmap is None:\n",
    "        cmap = cm.jet\n",
    "    if vmin is None:\n",
    "        vmin = data.min()\n",
    "    if vmax is None:\n",
    "        vmax = data.max()\n",
    "    divider = make_axes_locatable(ax)\n",
    "    cax = divider.append_axes(\"right\", size=\"5%\", pad=0.05)\n",
    "    im = ax.imshow(data, vmin=vmin, vmax=vmax, interpolation='nearest', cmap=cmap)\n",
    "    plt.colorbar(im, cax=cax)"
   ]
  },
  {
   "cell_type": "code",
   "execution_count": 1106,
   "metadata": {},
   "outputs": [
    {
     "name": "stdout",
     "output_type": "stream",
     "text": [
      "W shape :  (16, 4, 4)\n"
     ]
    }
   ],
   "source": [
    "W =chainer.cuda.to_cpu(c1.W.data)\n",
    "W = np.squeeze(W)\n",
    "print(\"W shape : \", W.shape)\n"
   ]
  },
  {
   "cell_type": "code",
   "execution_count": 1107,
   "metadata": {},
   "outputs": [
    {
     "data": {
      "image/png": "[encoded data removed]",
      "text/plain": [
       "<matplotlib.figure.Figure at 0x7f8834e8c630>"
      ]
     },
     "metadata": {},
     "output_type": "display_data"
    }
   ],
   "source": [
    "plt.figure(figsize=(15, 15))\n",
    "plt.title('conv1 weights')\n",
    "nice_imshow(plt.gca(), make_mosaic(W, 4, 4), cmap=mpl.cm.binary)"
   ]
  },
  {
   "cell_type": "code",
   "execution_count": null,
   "metadata": {
    "collapsed": true
   },
   "outputs": [],
   "source": []
  },
  {
   "cell_type": "code",
   "execution_count": 952,
   "metadata": {},
   "outputs": [
    {
     "name": "stdout",
     "output_type": "stream",
     "text": [
      "conv1 weights: [[[[ 1.]]]]\n",
      "l1 weigths: [[ 1.  1.  1.  1.]]\n",
      "after update...\n",
      "conv1 weights: [[[[ 1.]]]]\n",
      "l1 weights: [[ 0.99869204  0.99978     0.999731    0.9996931 ]]\n"
     ]
    }
   ],
   "source": [
    "class CNN(chainer.Chain):\n",
    "    def __init__(self, train=True):\n",
    "        super(CNN, self).__init__(\n",
    "            conv1=L.Convolution2D(1, 1, 1, initialW=np.array([[[[1]]]])) ,\n",
    "            l1=L.Linear(None, 1, initialW=np.array([[1,1,1,1]]))  \n",
    "        )\n",
    "        self.train=train\n",
    "    def __call__(self, x):\n",
    "        h = F.relu(self.conv1(x))\n",
    "        h = F.sigmoid(self.l1(h))\n",
    "        return h\n",
    "net = CNN()\n",
    "net.cleargrads()\n",
    "optimizer = chainer.optimizers.SGD()\n",
    "optimizer.setup(net)\n",
    "#net.conv1.W.update_rule.enabled=False\n",
    "#net.conv1.W.update_rule.enabled=False\n",
    "net.conv1.disable_update()\n",
    "result = net(np.random.random((1,1,2,2)).astype(np.float32))\n",
    "print(\"conv1 weights:\",net.conv1.W.data)\n",
    "print(\"l1 weigths:\",net.l1.W.data)\n",
    "loss = F.mean_absolute_error(result,np.array([[0.1]],dtype=np.float32))\n",
    "loss.backward()\n",
    "optimizer.update()\n",
    "print(\"after update...\")\n",
    "#print(\"conv1 grad\",net.conv1.W.grad)\n",
    "print(\"conv1 weights:\",net.conv1.W.data)\n",
    "print(\"l1 weights:\",net.l1.W.data)\n"
   ]
  },
  {
   "cell_type": "code",
   "execution_count": 326,
   "metadata": {},
   "outputs": [
    {
     "data": {
      "text/plain": [
       "False"
      ]
     },
     "execution_count": 326,
     "metadata": {},
     "output_type": "execute_result"
    }
   ],
   "source": [
    "net.conv1.disable_update()\n",
    "net.conv1.update_enabled\n",
    "#print (net.conv1.W.update_rule)"
   ]
  },
  {
   "cell_type": "code",
   "execution_count": 255,
   "metadata": {
    "collapsed": true
   },
   "outputs": [],
   "source": [
    "from chainer import Variable\n",
    "x_data = np.array([5], dtype=np.float32)\n",
    "x = Variable(x_data)"
   ]
  },
  {
   "cell_type": "code",
   "execution_count": 256,
   "metadata": {
    "collapsed": false
   },
   "outputs": [
    {
     "data": {
      "text/plain": [
       "array([ 16.], dtype=float32)"
      ]
     },
     "execution_count": 256,
     "metadata": {},
     "output_type": "execute_result"
    }
   ],
   "source": [
    "y = x**2 - 2 * x + 1\n",
    "y.data"
   ]
  },
  {
   "cell_type": "code",
   "execution_count": 258,
   "metadata": {},
   "outputs": [
    {
     "data": {
      "text/plain": [
       "array([ 8.], dtype=float32)"
      ]
     },
     "execution_count": 258,
     "metadata": {},
     "output_type": "execute_result"
    }
   ],
   "source": [
    "y.backward()\n",
    "x.grad"
   ]
  },
  {
   "cell_type": "code",
   "execution_count": null,
   "metadata": {
    "collapsed": true
   },
   "outputs": [],
   "source": []
  },
  {
   "cell_type": "code",
   "execution_count": null,
   "metadata": {
    "collapsed": true
   },
   "outputs": [],
   "source": []
  }
 ],
 "metadata": {
  "kernelspec": {
   "display_name": "Python 3",
   "language": "python",
   "name": "python3"
  },
  "language_info": {
   "codemirror_mode": {
    "name": "ipython",
    "version": 3
   },
   "file_extension": ".py",
   "mimetype": "text/x-python",
   "name": "python",
   "nbconvert_exporter": "python",
   "pygments_lexer": "ipython3",
   "version": "3.6.2"
  }
 },
 "nbformat": 4,
 "nbformat_minor": 1
}
